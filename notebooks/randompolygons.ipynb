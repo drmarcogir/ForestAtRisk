{
 "cells": [
  {
   "cell_type": "markdown",
   "metadata": {},
   "source": [
    "# Extractions for random polygons (for classifying forest disturbances)"
   ]
  },
  {
   "cell_type": "code",
   "execution_count": null,
   "metadata": {},
   "outputs": [],
   "source": [
    "# import required modules\n",
    "import numpy as np\n",
    "import geopandas as gpd\n",
    "import rasterio as rst\n",
    "from rasterstats import zonal_stats\n",
    "import glob\n",
    "import os\n",
    "import pandas as pd\n",
    "import re\n",
    "import multiprocessing\n",
    "from multiprocessing import Pool"
   ]
  },
  {
   "cell_type": "markdown",
   "metadata": {},
   "source": [
    "### Functions"
   ]
  },
  {
   "cell_type": "code",
   "execution_count": null,
   "metadata": {},
   "outputs": [],
   "source": [
    "def event_scale(filer):\n",
    "    # open raster with rasterio\n",
    "    tmpr = rst.open(filer)\n",
    "    # convert into array\n",
    "    tmpar = tmpr.read(1)\n",
    "    # if integer convert into floating point\n",
    "    if ('float' in tmpar.dtype.type.__name__)==False:\n",
    "        # set array values to floating\n",
    "        tmpar = tmpar.astype('float')\n",
    "    # exception for Aridity Index (lack of consistent naming)\n",
    "    if 'AI' in os.path.basename(filer):\n",
    "        varname = os.path.basename(filer).split('.')[0].split('_')[0]\n",
    "        year = os.path.basename(filer).split('.')[0].split('_')[1]\n",
    "            # contains population name\n",
    "    elif 'pop' in os.path.basename(filer):\n",
    "           varname = os.path.basename(filer).split('.')[0].split('2')[0]\n",
    "           numbs = re.findall('\\d+', os.path.basename(filer).split('.')[0])\n",
    "           # extract the number with the longest number of digits\n",
    "           year = max(numbs, key=len)\n",
    "    elif 'suppressionp' in os.path.basename(filer) or 'ignitionp' in os.path.basename(filer):\n",
    "               varname = os.path.basename(filer).split('.')[0].split('_')[0]\n",
    "               numbs = re.findall('\\d+', os.path.basename(filer).split('.')[0])\n",
    "               # extract the number with the longest number of digits\n",
    "               year = max(numbs, key=len)\n",
    "    else:\n",
    "        # get out names for variable of interest\n",
    "        varnametmp = os.path.basename(filer).split('.')[0]\n",
    "        varname = varnametmp.split('_')[0] + \"_\" + varnametmp.split('_')[1] + \"_\" + varnametmp.split('_')[3]\n",
    "        #parse numbers (could be year, resolution or season!)\n",
    "        numbs = re.findall('\\d+', os.path.basename(filer).split('.')[0])\n",
    "        # extract the number with the longest number of digits\n",
    "        year = max(numbs, key=len)  \n",
    "    print(varname)\n",
    "    # extract zonal stats\n",
    "    stats = zonal_stats(randp, tmpar, affine = tmpr.transform, stats=['mean'], all_touched=True, nodata=tmpr.nodata)\n",
    "    # convert dictionaries into lists\n",
    "    stats1 = [val for dic in stats for val in dic.values()]\n",
    "    newcolumn = varname + '_' + str(year)\n",
    "    # store in pandas dataframe\n",
    "    #randp_effis[newcolumn] = stats1\n",
    "    finalres = {newcolumn:stats1}\n",
    "    return finalres        "
   ]
  },
  {
   "cell_type": "markdown",
   "metadata": {},
   "source": [
    "## EFFIS data"
   ]
  },
  {
   "cell_type": "code",
   "execution_count": null,
   "metadata": {},
   "outputs": [],
   "source": [
    "# read in file containing random polygons\n",
    "randp = gpd.read_file('/home/marco/Desktop/testbuffers/buffers/random_buffers_effis.shp')"
   ]
  },
  {
   "cell_type": "markdown",
   "metadata": {},
   "source": [
    "### Static datasets"
   ]
  },
  {
   "cell_type": "markdown",
   "metadata": {},
   "source": [
    "#### PFTs"
   ]
  },
  {
   "cell_type": "code",
   "execution_count": null,
   "metadata": {},
   "outputs": [],
   "source": [
    "for filer in glob.glob('/mnt/data1tb/rasters/EU/pfts/*.tif'):\n",
    "        # get out names for variable of interest\n",
    "        varname = os.path.basename(filer).split('.')[0]\n",
    "        # print variable name\n",
    "        print(varname)\n",
    "        # open raster with rasterio\n",
    "        tmpr = rst.open(filer)\n",
    "        # convert into array\n",
    "        tmpar = tmpr.read(1)\n",
    "        # ---- zonal statistics (sum of pixels) \n",
    "        stats = zonal_stats(randp_effis, tmpar, affine=tmpr.transform, stats=['sum'], all_touched=True,nodata=tmpr.nodata)\n",
    "        # convert dictionary into a list\n",
    "        stats = [val for dic in stats for val in dic.values()]\n",
    "        # store into geopandas dataframe as new column\n",
    "        randp_effis[varname] = stats\n",
    "        # fill NAs with 0s\n",
    "        randp_effis[varname].fillna(0, inplace=True)\n",
    "        # ---- zonal statistics (count of pixels)\n",
    "        totpixels = zonal_stats(randp_effis, tmpar, affine=tmpr.transform, stats=['count'], all_touched=True,nodata=tmpr.nodata)\n",
    "        # convert dictionary into a list\n",
    "        pixelcount = [val for dic in totpixels for val in dic.values()]\n",
    "        # store into geopandas dataframe as new column\n",
    "        varname1 = varname + '_pixels'\n",
    "        randp_effis[varname1] = pixelcount\n",
    "        # fill NAs with 0s\n",
    "        randp_effis[varname1].fillna(0, inplace=True)"
   ]
  },
  {
   "cell_type": "markdown",
   "metadata": {},
   "source": [
    "#### Continuous variables"
   ]
  },
  {
   "cell_type": "code",
   "execution_count": null,
   "metadata": {},
   "outputs": [],
   "source": [
    "# Loop through raster files\n",
    "for filer in glob.glob('/mnt/data1tb/rasters/EU/static1/*.tif'):\n",
    "    # get out names for variable of interest\n",
    "    varname = os.path.basename(filer).split('.')[0]\n",
    "    # print variable name\n",
    "    print(varname)\n",
    "    # open raster with rasterio\n",
    "    tmpr = rst.open(filer)\n",
    "    # convert into array\n",
    "    tmpar = tmpr.read(1)\n",
    "    # ----  zonal statistics (mean)\n",
    "    stats = zonal_stats(randp_effis, tmpar, affine=tmpr.transform, stats=['mean'], all_touched=True, nodata=tmpr.nodata)\n",
    "    # convert dictionary into list\n",
    "    stats1 = [val for dic in stats for val in dic.values()]\n",
    "    # store into  geopandas dataframe as a new column\n",
    "    randp_effis[varname] = stats1\n",
    "    # fill NAs with 0s\n",
    "    randp_effis[varname].fillna(0, inplace=True)"
   ]
  },
  {
   "cell_type": "markdown",
   "metadata": {},
   "source": [
    "#### EFI tree cover maps"
   ]
  },
  {
   "cell_type": "code",
   "execution_count": null,
   "metadata": {},
   "outputs": [],
   "source": [
    "for filer in glob.glob('/mnt/data1tb/rasters/EU/EFItrees/*.tif'):\n",
    "        # open raster with rasterio\n",
    "        tmpr = rst.open(filer)\n",
    "        # convert into array\n",
    "        tmpar = tmpr.read(1)\n",
    "        # get out names for variable of interest\n",
    "        varname = os.path.basename(filer).split('.')[0]\n",
    "        print(varname)\n",
    "        # zonal statistics (mean)\n",
    "        stats = zonal_stats(randp_effis, tmpar, affine=tmpr.transform, stats=['sum'], all_touched=True, nodata=tmpr.nodata)\n",
    "        # convert dictionaries into lists\n",
    "        stats1 = [val for dic in stats for val in dic.values()]\n",
    "        # store in pandas dataframe\n",
    "        randp_effis[varname] = stats1"
   ]
  },
  {
   "cell_type": "code",
   "execution_count": null,
   "metadata": {},
   "outputs": [],
   "source": [
    "# write out results for static variables\n",
    "randp_effis.to_file(randp_effis,'/home/marco/Desktop/testbuffers/extractions/EFFIS_STATIC.shp')"
   ]
  },
  {
   "cell_type": "markdown",
   "metadata": {},
   "source": [
    "###  Spatio-temporal datasets "
   ]
  },
  {
   "cell_type": "markdown",
   "metadata": {},
   "source": [
    "#### Event-scale variables"
   ]
  },
  {
   "cell_type": "code",
   "execution_count": null,
   "metadata": {},
   "outputs": [],
   "source": [
    "pool = multiprocessing.Pool(7)\n",
    "res = list(pool.map(event_scale, files))\n",
    "res1 = [x for x in res if x]\n",
    "pool.close()\n",
    "for listn in range(len(res1)):\n",
    "    # variable name\n",
    "    varname = list(res1[listn].keys())[0]\n",
    "    # extract values\n",
    "    tmp = list(res1[listn].values())[0]\n",
    "    randp[varname] = tmp\n",
    "randp1 = randp.drop('geometry',axis = 1)\n",
    "randp1.to_csv('/home/marco/Desktop/testbuffers/extractions/EFFIS_dynamic.csv',index=False)"
   ]
  },
  {
   "cell_type": "markdown",
   "metadata": {},
   "source": [
    "### WIND data"
   ]
  },
  {
   "cell_type": "code",
   "execution_count": null,
   "metadata": {},
   "outputs": [],
   "source": [
    "# read in file containing random polygons\n",
    "randp = gpd.read_file('/home/marco/Desktop/testbuffers/buffers/random_buffers_wind.shp')\n",
    "# raster data data from 1999 until 2017\n",
    "list1 = glob.glob('/mnt/data1tb/rasters/EU/dynamic1_Nov19/*.tif')\n",
    "files = [x for year in list(range(1999, 2017+1)) for x in list1 if re.search(str(year), x)]"
   ]
  },
  {
   "cell_type": "markdown",
   "metadata": {},
   "source": [
    "#### PFTs"
   ]
  },
  {
   "cell_type": "code",
   "execution_count": null,
   "metadata": {},
   "outputs": [],
   "source": [
    "for filer in glob.glob('/mnt/data1tb/rasters/EU/pfts/*.tif'):\n",
    "        # get out names for variable of interest\n",
    "        varname = os.path.basename(filer).split('.')[0]\n",
    "        # print variable name\n",
    "        print(varname)\n",
    "        # open raster with rasterio\n",
    "        tmpr = rst.open(filer)\n",
    "        # convert into array\n",
    "        tmpar = tmpr.read(1)\n",
    "        # ---- zonal statistics (sum of pixels) \n",
    "        stats = zonal_stats(randp_wind, tmpar, affine=tmpr.transform, stats=['sum'], all_touched=True,nodata=tmpr.nodata)\n",
    "        # convert dictionary into a list\n",
    "        stats = [val for dic in stats for val in dic.values()]\n",
    "        # store into geopandas dataframe as new column\n",
    "        randp_wind[varname] = stats\n",
    "        # fill NAs with 0s\n",
    "        randp_wind[varname].fillna(0, inplace=True)\n",
    "        # ---- zonal statistics (count of pixels)\n",
    "        totpixels = zonal_stats(randp, tmpar, affine=tmpr.transform, stats=['count'], all_touched=True,nodata=tmpr.nodata)\n",
    "        # convert dictionary into a list\n",
    "        pixelcount = [val for dic in totpixels for val in dic.values()]\n",
    "        # store into geopandas dataframe as new column\n",
    "        varname1 = varname + '_pixels'\n",
    "        randp_wind[varname1] = pixelcount\n",
    "        # fill NAs with 0s\n",
    "        randp_wind[varname1].fillna(0, inplace=True)"
   ]
  },
  {
   "cell_type": "markdown",
   "metadata": {},
   "source": [
    "#### Continuous variables"
   ]
  },
  {
   "cell_type": "code",
   "execution_count": null,
   "metadata": {},
   "outputs": [],
   "source": [
    "# Loop through raster files\n",
    "for filer in glob.glob('/mnt/data1tb/rasters/EU/static1/*.tif'):\n",
    "    # get out names for variable of interest\n",
    "    varname = os.path.basename(filer).split('.')[0]\n",
    "    # print variable name\n",
    "    print(varname)\n",
    "    # open raster with rasterio\n",
    "    tmpr = rst.open(filer)\n",
    "    # convert into array\n",
    "    tmpar = tmpr.read(1)\n",
    "    # ----  zonal statistics (mean)\n",
    "    stats = zonal_stats(randp, tmpar, affine=tmpr.transform, stats=['mean'], all_touched=True, nodata=tmpr.nodata)\n",
    "    # convert dictionary into list\n",
    "    stats1 = [val for dic in stats for val in dic.values()]\n",
    "    # store into  geopandas dataframe as a new column\n",
    "    randp_wind[varname] = stats1\n",
    "    # fill NAs with 0s\n",
    "    randp_wind[varname].fillna(0, inplace=True)"
   ]
  },
  {
   "cell_type": "markdown",
   "metadata": {},
   "source": [
    "#### EFI trees"
   ]
  },
  {
   "cell_type": "code",
   "execution_count": null,
   "metadata": {},
   "outputs": [],
   "source": [
    "for filer in glob.glob('/mnt/data1tb/rasters/EU/EFItrees/*.tif'):\n",
    "        # open raster with rasterio\n",
    "        tmpr = rst.open(filer)\n",
    "        # convert into array\n",
    "        tmpar = tmpr.read(1)\n",
    "        # get out names for variable of interest\n",
    "        varname = os.path.basename(filer).split('.')[0]\n",
    "        print(varname)\n",
    "        # zonal statistics (mean)\n",
    "        stats = zonal_stats(randp, tmpar, affine=tmpr.transform, stats=['sum'], all_touched=True, nodata=tmpr.nodata)\n",
    "        # convert dictionaries into lists\n",
    "        stats1 = [val for dic in stats for val in dic.values()]\n",
    "        # store in pandas dataframe\n",
    "        randp_wind[varname] = stats1"
   ]
  },
  {
   "cell_type": "code",
   "execution_count": null,
   "metadata": {},
   "outputs": [],
   "source": [
    "# write out results for static variables\n",
    "#randp_wind1 = randp.drop(['geometry'], axis=1)\n",
    "#randp_wind1.to_csv('/home/marco/Desktop/testbuffers/extractions/WIND_P1.csv',index=False)"
   ]
  },
  {
   "cell_type": "markdown",
   "metadata": {},
   "source": [
    "#### Event scale variables"
   ]
  },
  {
   "cell_type": "code",
   "execution_count": null,
   "metadata": {},
   "outputs": [],
   "source": [
    "pool = multiprocessing.Pool(6)\n",
    "res = list(pool.map(event_scale, files))\n",
    "res1 = [x for x in res if x]\n",
    "pool.close()\n",
    "for listn in range(len(res1)):\n",
    "    # variable name\n",
    "    varname = list(res1[listn].keys())[0]\n",
    "    # extract values\n",
    "    tmp = list(res1[listn].values())[0]\n",
    "    randp[varname] = tmp"
   ]
  },
  {
   "cell_type": "code",
   "execution_count": null,
   "metadata": {},
   "outputs": [],
   "source": [
    "randp1 = randp.drop('geometry',axis = 1)\n",
    "randp1.to_csv('/home/marco/Desktop/testbuffers/extractions/WIND_dynamic.csv',index=False)"
   ]
  },
  {
   "cell_type": "markdown",
   "metadata": {},
   "source": [
    "### INSECT data"
   ]
  },
  {
   "cell_type": "code",
   "execution_count": null,
   "metadata": {},
   "outputs": [],
   "source": [
    "# read in file containing random polygons\n",
    "randp = gpd.read_file('/home/marco/Desktop/testbuffers/buffers/random_buffers_insects.shp')"
   ]
  },
  {
   "cell_type": "markdown",
   "metadata": {},
   "source": [
    "#### PFTs"
   ]
  },
  {
   "cell_type": "code",
   "execution_count": null,
   "metadata": {},
   "outputs": [],
   "source": [
    "for filer in glob.glob('/mnt/data1tb/rasters/NA/pfts/*.tif'):\n",
    "        # get out names for variable of interest\n",
    "        varname = os.path.basename(filer).split('.')[0]\n",
    "        # print variable name\n",
    "        print(varname)\n",
    "        # open raster with rasterio\n",
    "        tmpr = rst.open(filer)\n",
    "        # convert into array\n",
    "        tmpar = tmpr.read(1)\n",
    "        # ---- zonal statistics (sum of pixels) \n",
    "        stats = zonal_stats(randp_insects, tmpar, affine=tmpr.transform, stats=['sum'], all_touched=True,nodata=tmpr.nodata)\n",
    "        # convert dictionary into a list\n",
    "        stats = [val for dic in stats for val in dic.values()]\n",
    "        # store into geopandas dataframe as new column\n",
    "        randp_insects[varname] = stats\n",
    "        # fill NAs with 0s\n",
    "        randp_insects[varname].fillna(0, inplace=True)\n",
    "        # ---- zonal statistics (count of pixels)\n",
    "        totpixels = zonal_stats(randp_insects, tmpar, affine=tmpr.transform, stats=['count'], all_touched=True,nodata=tmpr.nodata)\n",
    "        # convert dictionary into a list\n",
    "        pixelcount = [val for dic in totpixels for val in dic.values()]\n",
    "        # store into geopandas dataframe as new column\n",
    "        varname1 = varname + '_pixels'\n",
    "        randp_insects[varname1] = pixelcount\n",
    "        # fill NAs with 0s\n",
    "        randp_insects[varname1].fillna(0, inplace=True)"
   ]
  },
  {
   "cell_type": "markdown",
   "metadata": {},
   "source": [
    "#### Continuous variables"
   ]
  },
  {
   "cell_type": "code",
   "execution_count": null,
   "metadata": {},
   "outputs": [],
   "source": [
    "# Loop through raster files\n",
    "for filer in glob.glob('/mnt/data1tb/rasters/NA/static/*.tif'):\n",
    "    # get out names for variable of interest\n",
    "    varname = os.path.basename(filer).split('.')[0]\n",
    "    # print variable name\n",
    "    print(varname)\n",
    "    # open raster with rasterio\n",
    "    tmpr = rst.open(filer)\n",
    "    # convert into array\n",
    "    tmpar = tmpr.read(1)\n",
    "    # ----  zonal statistics (mean)\n",
    "    stats = zonal_stats(randp_insects, tmpar, affine=tmpr.transform, stats=['mean'], all_touched=True, nodata=tmpr.nodata)\n",
    "    # convert dictionary into list\n",
    "    stats1 = [val for dic in stats for val in dic.values()]\n",
    "    # store into  geopandas dataframe as a new column\n",
    "    randp_insects[varname] = stats1\n",
    "    # fill NAs with 0s\n",
    "    randp_insects[varname].fillna(0, inplace=True)"
   ]
  },
  {
   "cell_type": "code",
   "execution_count": null,
   "metadata": {},
   "outputs": [],
   "source": [
    "# write out results for static variables\n",
    "randp_insects1 = randp_insects.drop(['geometry'], axis=1)\n",
    "randp_insects1.to_csv('/home/marco/Desktop/testbuffers/extractions/INSECTS_P1.csv',index=False)"
   ]
  },
  {
   "cell_type": "code",
   "execution_count": null,
   "metadata": {},
   "outputs": [],
   "source": [
    "# raster data data from 1999 until 2017\n",
    "list1 = glob.glob('/mnt/data1tb/rasters/NA/dynamic/*.tif')\n",
    "files = [x for year in list(range(1995, 2017+1)) for x in list1 if re.search(str(year), x)]"
   ]
  },
  {
   "cell_type": "code",
   "execution_count": null,
   "metadata": {},
   "outputs": [],
   "source": [
    "files = files[0:6]"
   ]
  },
  {
   "cell_type": "code",
   "execution_count": null,
   "metadata": {},
   "outputs": [],
   "source": [
    "pool = multiprocessing.Pool(6)\n",
    "res = list(pool.map(event_scale, files))"
   ]
  },
  {
   "cell_type": "code",
   "execution_count": null,
   "metadata": {},
   "outputs": [],
   "source": [
    "pool = multiprocessing.Pool(6)\n",
    "res = list(pool.map(event_scale, files))\n",
    "res1 = [x for x in res if x]\n",
    "pool.close()\n",
    "for listn in range(len(res1)):\n",
    "    # variable name\n",
    "    varname = list(res1[listn].keys())[0]\n",
    "    # extract values\n",
    "    tmp = list(res1[listn].values())[0]\n",
    "    randp[varname] = tmp"
   ]
  },
  {
   "cell_type": "markdown",
   "metadata": {},
   "source": [
    "### Extra variables"
   ]
  },
  {
   "cell_type": "code",
   "execution_count": null,
   "metadata": {},
   "outputs": [],
   "source": [
    "files = []\n",
    "files.extend(glob.glob('/mnt/data1tb/rasters/NA/extra/*.tif'))\n",
    "files.extend([fn for fn in glob.glob('/mnt/data1tb/rasters/NA/dynamic/*.tif') if 'tmean_2017' in fn])"
   ]
  },
  {
   "cell_type": "code",
   "execution_count": null,
   "metadata": {},
   "outputs": [],
   "source": [
    "pool = multiprocessing.Pool(7)\n",
    "res = list(pool.map(event_scale, files))\n",
    "res1 = [x for x in res if x]\n",
    "pool.close()\n",
    "for listn in range(len(res1)):\n",
    "    # variable name\n",
    "    varname = list(res1[listn].keys())[0]\n",
    "    # extract values\n",
    "    tmp = list(res1[listn].values())[0]\n",
    "    randp[varname] = tmp"
   ]
  },
  {
   "cell_type": "code",
   "execution_count": null,
   "metadata": {},
   "outputs": [],
   "source": [
    "randp1 = randp.drop('geometry',axis = 1)"
   ]
  },
  {
   "cell_type": "code",
   "execution_count": null,
   "metadata": {},
   "outputs": [],
   "source": [
    "randp1.to_csv('/home/marco/Desktop/testbuffers/extractions/insect_dynamicv1.csv',index = False)"
   ]
  }
 ],
 "metadata": {
  "kernelspec": {
   "display_name": "Python 3",
   "language": "python",
   "name": "python3"
  },
  "language_info": {
   "codemirror_mode": {
    "name": "ipython",
    "version": 3
   },
   "file_extension": ".py",
   "mimetype": "text/x-python",
   "name": "python",
   "nbconvert_exporter": "python",
   "pygments_lexer": "ipython3",
   "version": "3.8.5"
  },
  "varInspector": {
   "cols": {
    "lenName": 16,
    "lenType": 16,
    "lenVar": 40
   },
   "kernels_config": {
    "python": {
     "delete_cmd_postfix": "",
     "delete_cmd_prefix": "del ",
     "library": "var_list.py",
     "varRefreshCmd": "print(var_dic_list())"
    },
    "r": {
     "delete_cmd_postfix": ") ",
     "delete_cmd_prefix": "rm(",
     "library": "var_list.r",
     "varRefreshCmd": "cat(var_dic_list()) "
    }
   },
   "types_to_exclude": [
    "module",
    "function",
    "builtin_function_or_method",
    "instance",
    "_Feature"
   ],
   "window_display": false
  }
 },
 "nbformat": 4,
 "nbformat_minor": 4
}
